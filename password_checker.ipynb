{
 "cells": [
  {
   "cell_type": "code",
   "execution_count": null,
   "metadata": {},
   "outputs": [],
   "source": [
    "# 1) Create a password checker. Get username and password from user\n",
    "\n",
    "# Rule to be followed\n",
    "\n",
    "# 1) Minimum 8 characters\n",
    "# 2) Should be a Alphanumeric(aleast one alphabet and one number)\n",
    "# 3) Should contain minimum 1 special Character -[!@#$%^&*]\n",
    "# 4) password should not be same as the username\n",
    "\n",
    "# If password satisfies all the condition, print password is valid, if it not satisying, \n",
    "# print the condition which are not satisfying.\n",
    "\n",
    "# Input : username : greatlearning\n",
    "#         password : abc1\n",
    "\n",
    "# Output :\n",
    "#          Password is invalid\n",
    "#          Reason:\n",
    "#          Should contain minimum 8 characters\n",
    "#          Should contain minimum 1 special Character -[!@#$%^&*]\n",
    "\n",
    "\n",
    "\n",
    "# Input : username : greatlearning\n",
    "#         password : abc123@\n",
    "\n",
    "# Output :\n",
    "#          Password is invalid\n",
    "#          Reason:\n",
    "#          Should contain minimum 8 characters\n",
    "\n",
    "# Input : username : greatlearning\n",
    "#         password : greatlearning\n",
    "\n",
    "# Output :\n",
    "#          Password is invalid\n",
    "#          Reason:\n",
    "#          Should be a Alphanumeric(aleast one alphabet and one number)\n",
    "#          Should contain minimum 1 special Character -[!@#$%^&*]\n",
    "#          Password should not be same as the username\n",
    "\n",
    "# Input : username : greatlearning\n",
    "#         password : great123!#\n",
    "\n",
    "# Output : \n",
    "#         Password is valid"
   ]
  },
  {
   "cell_type": "code",
   "execution_count": 2,
   "metadata": {},
   "outputs": [
    {
     "name": "stdout",
     "output_type": "stream",
     "text": [
      "Enter username: greatlearning\n",
      "Enter password: great123!#\n",
      "Password is valid\n"
     ]
    }
   ],
   "source": [
    "user = input('Enter username: ')\n",
    "pwd = input('Enter password: ')\n",
    "small_alp = 'abcdefghijklmnopqrstuvwxyz'\n",
    "capital_alp = 'ABCDFGHIJKLMNOPQRSTUVWXYZ'\n",
    "num = '1234567890'\n",
    "sym = '!@#$%^&*'\n",
    "alp_flag = 0\n",
    "num_flag = 0\n",
    "sym_flag = 0\n",
    "final_flag = 0\n",
    "\n",
    "if len(pwd)<8:\n",
    "    print(\"Should contain minimum 8 characters\")\n",
    "    final_flag = 1\n",
    "    \n",
    "for i in pwd:\n",
    "    if (i in small_alp) or (i in capital_alp):\n",
    "        alp_flag = 1\n",
    "    elif i in num:\n",
    "        num_flag = 1\n",
    "    elif i in sym:\n",
    "        sym_flag = 1\n",
    "\n",
    "if alp_flag==0 or num_flag==0:\n",
    "    print(\"Should be a Alphanumeric(aleast one alphabet and one number)\")\n",
    "    final_flag = 1\n",
    "    \n",
    "if sym_flag==0:\n",
    "    print(\"Should contain minimum 1 special Character -[!@#$%^&*]\")\n",
    "    final_flag = 1\n",
    "\n",
    "if user == pwd:\n",
    "    print(\"Password should not be same as the username\")\n",
    "    final_flag = 1\n",
    "\n",
    "if final_flag == 0:\n",
    "    print('Password is valid')"
   ]
  }
 ],
 "metadata": {
  "kernelspec": {
   "display_name": "Python 3",
   "language": "python",
   "name": "python3"
  },
  "language_info": {
   "codemirror_mode": {
    "name": "ipython",
    "version": 3
   },
   "file_extension": ".py",
   "mimetype": "text/x-python",
   "name": "python",
   "nbconvert_exporter": "python",
   "pygments_lexer": "ipython3",
   "version": "3.7.6"
  }
 },
 "nbformat": 4,
 "nbformat_minor": 2
}
